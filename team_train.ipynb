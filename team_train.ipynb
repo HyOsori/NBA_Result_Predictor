{
 "cells": [
  {
   "cell_type": "code",
   "execution_count": 2,
   "metadata": {
    "collapsed": true
   },
   "outputs": [],
   "source": [
    "import os\n",
    "import csv\n",
    "import pandas as pd\n",
    "import tensorflow as tf\n",
    "import numpy as np"
   ]
  },
  {
   "cell_type": "code",
   "execution_count": 3,
   "metadata": {},
   "outputs": [
    {
     "name": "stdout",
     "output_type": "stream",
     "text": [
      "C:\\Users\\Jae\\Documents\\GitHub\\NBA_Result_Predictor\n"
     ]
    }
   ],
   "source": [
    "maindirectory = os.getcwd()\n",
    "print(maindirectory)"
   ]
  },
  {
   "cell_type": "code",
   "execution_count": 4,
   "metadata": {
    "collapsed": true
   },
   "outputs": [],
   "source": [
    "team_stats = pd.read_csv(\"./Data/teams/team_stats\")\n",
    "results = pd.read_csv(\"./Data/results/game_results\")"
   ]
  },
  {
   "cell_type": "code",
   "execution_count": 65,
   "metadata": {},
   "outputs": [
    {
     "name": "stdout",
     "output_type": "stream",
     "text": [
      "  RANK           TEAM  POINTS_OWN  POINTS_OPP  POINTS_DIFF  FG PCT_OWN  \\\n",
      "0    6    LA Clippers       108.7       104.4          4.3       0.475   \n",
      "1    4      Cleveland       110.3       107.2          3.1       0.470   \n",
      "2    9        Phoenix       107.7       113.3         -5.6       0.450   \n",
      "3    3         Denver       111.7       111.2          0.5       0.469   \n",
      "4   29        Memphis       100.5       100.0          0.5       0.435   \n",
      "5   30         Dallas        97.9       100.8         -2.9       0.440   \n",
      "6   13      Minnesota       105.6       106.7         -1.1       0.467   \n",
      "7   23        Chicago       102.9       102.4          0.5       0.444   \n",
      "8    5     Washington       109.2       107.4          1.8       0.475   \n",
      "9   11  Oklahoma City       106.6       105.8          0.8       0.452   \n",
      "\n",
      "   FG PCT_OPP  3PT PCT_OWN  3PT PCT_OPP  3PT PCT_FT%  REBOUND PCT_OFF  \\\n",
      "0       0.452        0.375        0.350        0.745            0.215   \n",
      "1       0.458        0.384        0.361        0.748            0.219   \n",
      "2       0.467        0.332        0.382        0.776            0.260   \n",
      "3       0.477        0.368        0.375        0.774            0.273   \n",
      "4       0.443        0.354        0.354        0.784            0.248   \n",
      "5       0.469        0.355        0.380        0.801            0.181   \n",
      "6       0.475        0.349        0.366        0.799            0.272   \n",
      "7       0.456        0.340        0.345        0.798            0.270   \n",
      "8       0.466        0.372        0.364        0.784            0.241   \n",
      "9       0.459        0.327        0.356        0.745            0.279   \n",
      "\n",
      "   REBOUND PCT_DEF  REBOUND PCT_TOT  TURNOVERS_OWN  TURNOVERS_OPP  \n",
      "0            0.769            0.499           12.5           12.6  \n",
      "1            0.758            0.497           13.2           12.0  \n",
      "2            0.764            0.505           14.9           14.5  \n",
      "3            0.787            0.532           14.5           11.5  \n",
      "4            0.775            0.504           12.4           13.6  \n",
      "5            0.776            0.464           11.2           14.5  \n",
      "6            0.759            0.512           13.4           13.8  \n",
      "7            0.768            0.517           13.0           12.9  \n",
      "8            0.755            0.499           13.5           14.8  \n",
      "9            0.790            0.534           14.6           13.2  \n",
      "             Visitor Team Visitor Points               Home Team Home Points\n",
      "0         New York Knicks             88     Cleveland Cavaliers         117\n",
      "1       San Antonio Spurs            129   Golden State Warriors         100\n",
      "2               Utah Jazz            104  Portland Trail Blazers         113\n",
      "3           Brooklyn Nets            117          Boston Celtics         122\n",
      "4        Dallas Mavericks            121          Indiana Pacers         130\n",
      "5         Houston Rockets            114      Los Angeles Lakers         120\n",
      "6  Minnesota Timberwolves             98       Memphis Grizzlies         102\n",
      "7       Charlotte Hornets            107         Milwaukee Bucks          96\n",
      "8          Denver Nuggets            107    New Orleans Pelicans         102\n",
      "9              Miami Heat            108           Orlando Magic          96\n",
      "0       LA Clippers\n",
      "1         Cleveland\n",
      "2           Phoenix\n",
      "3            Denver\n",
      "4           Memphis\n",
      "5            Dallas\n",
      "6         Minnesota\n",
      "7           Chicago\n",
      "8        Washington\n",
      "9     Oklahoma City\n",
      "10     Philadelphia\n",
      "11          Houston\n",
      "12         Brooklyn\n",
      "13            Miami\n",
      "14        LA Lakers\n",
      "15          Atlanta\n",
      "16         New York\n",
      "17          Toronto\n",
      "18     Golden State\n",
      "19        Charlotte\n",
      "20        Milwaukee\n",
      "21          Indiana\n",
      "22             Utah\n",
      "23       Sacramento\n",
      "24           Boston\n",
      "25      New Orleans\n",
      "26          Orlando\n",
      "27      San Antonio\n",
      "28          Detroit\n",
      "29         Portland\n",
      "Name: TEAM, dtype: object\n"
     ]
    }
   ],
   "source": [
    "print(team_stats.head(10))\n",
    "print(results.head(10))\n",
    "print(team_stats[\"TEAM\"])"
   ]
  },
  {
   "cell_type": "code",
   "execution_count": 44,
   "metadata": {},
   "outputs": [
    {
     "name": "stdout",
     "output_type": "stream",
     "text": [
      "0      6\n",
      "1      4\n",
      "2      9\n",
      "3      3\n",
      "4     29\n",
      "5     30\n",
      "6     13\n",
      "7     23\n",
      "8      5\n",
      "9     11\n",
      "10    25\n",
      "11     2\n",
      "12    12\n",
      "13    21\n",
      "14    17\n",
      "15     ?\n",
      "16     ?\n",
      "17    10\n",
      "18     1\n",
      "19    16\n",
      "20    20\n",
      "21    15\n",
      "22    28\n",
      "23    24\n",
      "24     7\n",
      "25    18\n",
      "26    27\n",
      "27    14\n",
      "28    26\n",
      "29     8\n",
      "Name: RANK, dtype: object\n"
     ]
    }
   ],
   "source": [
    "print(team_stats[\"RANK\"])"
   ]
  },
  {
   "cell_type": "code",
   "execution_count": 49,
   "metadata": {},
   "outputs": [
    {
     "name": "stdout",
     "output_type": "stream",
     "text": [
      "{0: 'LA Clippers', 1: 'Cleveland', 2: 'Phoenix', 3: 'Denver', 4: 'Memphis', 5: 'Dallas', 6: 'Minnesota', 7: 'Chicago', 8: 'Washington', 9: 'Oklahoma City', 10: 'Philadelphia', 11: 'Houston', 12: 'Brooklyn', 13: 'Miami', 14: 'LA Lakers', 15: 'Atlanta', 16: 'New York', 17: 'Toronto', 18: 'Golden State', 19: 'Charlotte', 20: 'Milwaukee', 21: 'Indiana', 22: 'Utah', 23: 'Sacramento', 24: 'Boston', 25: 'New Orleans', 26: 'Orlando', 27: 'San Antonio', 28: 'Detroit', 29: 'Portland'} {'Memphis': 4, 'Brooklyn': 12, 'Miami': 13, 'Toronto': 17, 'Chicago': 7, 'Cleveland': 1, 'Portland': 29, 'Philadelphia': 10, 'LA Lakers': 14, 'Denver': 3, 'Golden State': 18, 'Washington': 8, 'Utah': 22, 'Detroit': 28, 'Atlanta': 15, 'Charlotte': 19, 'Houston': 11, 'Oklahoma City': 9, 'New York': 16, 'Boston': 24, 'Minnesota': 6, 'Indiana': 21, 'Phoenix': 2, 'Orlando': 26, 'Dallas': 5, 'San Antonio': 27, 'LA Clippers': 0, 'New Orleans': 25, 'Milwaukee': 20, 'Sacramento': 23}\n"
     ]
    }
   ],
   "source": [
    "team_to_id = {}\n",
    "id_to_team = {}\n",
    "\n",
    "for i,team in enumerate(list(team_stats[\"TEAM\"])):\n",
    "    team_to_id[i] = team\n",
    "    id_to_team[team] = i\n",
    "\n",
    "print(team_to_id, id_to_team)"
   ]
  },
  {
   "cell_type": "code",
   "execution_count": 60,
   "metadata": {},
   "outputs": [
    {
     "name": "stdout",
     "output_type": "stream",
     "text": [
      "Atlanta\n",
      "New York\n",
      "dict_keys(['Memphis', 'Brooklyn', 'Miami', 'Toronto', 'Chicago', 'Cleveland', 'Portland', 'Philadelphia', 'LA Lakers', 'Denver', 'Golden State', 'Washington', 'Utah', 'Charlotte', 'Houston', 'Oklahoma City', 'San Antonio', 'Boston', 'Minnesota', 'Indiana', 'Phoenix', 'Orlando', 'Dallas', 'Detroit', 'LA Clippers', 'New Orleans', 'Milwaukee', 'Sacramento'])\n"
     ]
    }
   ],
   "source": [
    "np_team_stats = team_stats.as_matrix()\n",
    "team_to_input = {}\n",
    "\n",
    "def team_to_inputs():\n",
    "    for stats in np_team_stats:\n",
    "        team = stats[1]\n",
    "        if(stats[0] == \"?\"):\n",
    "            print(stats[1])\n",
    "            continue\n",
    "        team_to_input[team] = [x for i, x in enumerate(stats) if i != 1]\n",
    "        \n",
    "team_to_inputs()\n",
    "print(team_to_input.keys())"
   ]
  },
  {
   "cell_type": "code",
   "execution_count": 64,
   "metadata": {},
   "outputs": [
    {
     "name": "stdout",
     "output_type": "stream",
     "text": [
      "{'91', '95', '123', '115', 'Boston Celtics', 'Philadelphia 76ers', 'at London, England', '89', '98', '93', '102', '125', 'Chicago Bulls', '142', '114', 'Indiana Pacers', 'Utah Jazz', '112', 'Houston Rockets', '137', '127', '118', 'New Orleans Pelicans', 'Washington Wizards', '109', 'Golden State Warriors', '87', '120', '107', '122', 'Minnesota Timberwolves', 'Oklahoma City Thunder', 'Dallas Mavericks', '103', '96', '110', '144', 'Orlando Magic', '108', 'Cleveland Cavaliers', 'Brooklyn Nets', 'Los Angeles Clippers', '104', '121', '126', '86', 'Miami Heat', 'at Mexico City, Mexico', '111', 'Phoenix Suns', 'Denver Nuggets', 'Charlotte Hornets', '119', '73', 'Toronto Raptors', '129', '113', 'Sacramento Kings', 'Milwaukee Bucks', '99', '143', 'New York Knicks', '116', '106', 'San Antonio Spurs', '78', '105', '117', '124', '101', '97', '100', 'Los Angeles Lakers', '88', '85', 'Detroit Pistons', 'Portland Trail Blazers', 'Atlanta Hawks', '94', '128', '139', '92', 'Memphis Grizzlies', '83'}\n"
     ]
    }
   ],
   "source": [
    "np_results = results.as_matrix()\n",
    "\n",
    "total_teams = set()\n",
    "team_inputs = []\n",
    "outputs = []\n",
    "for row in np_results:\n",
    "    team1 = row[0]\n",
    "    team2 = row[2]\n",
    "    points1 = row[1]\n",
    "    points2 = row[3]\n",
    "    total_teams.add(team1)\n",
    "    total_teams.add(team2)\n",
    "print(total_teams)"
   ]
  }
 ],
 "metadata": {
  "kernelspec": {
   "display_name": "Python 3",
   "language": "python",
   "name": "python3"
  },
  "language_info": {
   "codemirror_mode": {
    "name": "ipython",
    "version": 3
   },
   "file_extension": ".py",
   "mimetype": "text/x-python",
   "name": "python",
   "nbconvert_exporter": "python",
   "pygments_lexer": "ipython3",
   "version": "3.5.4"
  }
 },
 "nbformat": 4,
 "nbformat_minor": 2
}
